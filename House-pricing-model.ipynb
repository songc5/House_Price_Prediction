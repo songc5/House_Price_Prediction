{
 "cells": [
  {
   "cell_type": "code",
   "execution_count": 1,
   "id": "e477d479",
   "metadata": {
    "scrolled": true
   },
   "outputs": [
    {
     "name": "stdout",
     "output_type": "stream",
     "text": [
      "Collecting kaggle\n",
      "  Downloading kaggle-1.5.12.tar.gz (58 kB)\n",
      "\u001b[K     |████████████████████████████████| 58 kB 2.2 MB/s eta 0:00:011\n",
      "\u001b[?25hRequirement already satisfied: six>=1.10 in /Users/chuwen/opt/anaconda3/envs/kaggle/lib/python3.8/site-packages (from kaggle) (1.16.0)\n",
      "Requirement already satisfied: certifi in /Users/chuwen/opt/anaconda3/envs/kaggle/lib/python3.8/site-packages (from kaggle) (2021.5.30)\n",
      "Requirement already satisfied: python-dateutil in /Users/chuwen/opt/anaconda3/envs/kaggle/lib/python3.8/site-packages (from kaggle) (2.8.2)\n",
      "Collecting requests\n",
      "  Downloading requests-2.26.0-py2.py3-none-any.whl (62 kB)\n",
      "\u001b[K     |████████████████████████████████| 62 kB 999 kB/s eta 0:00:011\n",
      "\u001b[?25hCollecting tqdm\n",
      "  Downloading tqdm-4.62.2-py2.py3-none-any.whl (76 kB)\n",
      "\u001b[K     |████████████████████████████████| 76 kB 3.8 MB/s eta 0:00:01\n",
      "\u001b[?25hCollecting python-slugify\n",
      "  Downloading python_slugify-5.0.2-py2.py3-none-any.whl (6.7 kB)\n",
      "Collecting urllib3\n",
      "  Downloading urllib3-1.26.6-py2.py3-none-any.whl (138 kB)\n",
      "\u001b[K     |████████████████████████████████| 138 kB 319 kB/s eta 0:00:01\n",
      "\u001b[?25hCollecting text-unidecode>=1.3\n",
      "  Downloading text_unidecode-1.3-py2.py3-none-any.whl (78 kB)\n",
      "\u001b[K     |████████████████████████████████| 78 kB 2.4 MB/s eta 0:00:01\n",
      "\u001b[?25hCollecting idna<4,>=2.5\n",
      "  Downloading idna-3.2-py3-none-any.whl (59 kB)\n",
      "\u001b[K     |████████████████████████████████| 59 kB 2.8 MB/s eta 0:00:01\n",
      "\u001b[?25hCollecting charset-normalizer~=2.0.0\n",
      "  Downloading charset_normalizer-2.0.4-py3-none-any.whl (36 kB)\n",
      "Building wheels for collected packages: kaggle\n",
      "  Building wheel for kaggle (setup.py) ... \u001b[?25ldone\n",
      "\u001b[?25h  Created wheel for kaggle: filename=kaggle-1.5.12-py3-none-any.whl size=73052 sha256=2b5e74ddac37868f86d2f55a4ff34258da2907fd6aff5f42c6c71e152fc1901c\n",
      "  Stored in directory: /Users/chuwen/Library/Caches/pip/wheels/29/da/11/144cc25aebdaeb4931b231e25fd34b394e6a5725cbb2f50106\n",
      "Successfully built kaggle\n",
      "Installing collected packages: urllib3, text-unidecode, idna, charset-normalizer, tqdm, requests, python-slugify, kaggle\n",
      "Successfully installed charset-normalizer-2.0.4 idna-3.2 kaggle-1.5.12 python-slugify-5.0.2 requests-2.26.0 text-unidecode-1.3 tqdm-4.62.2 urllib3-1.26.6\n",
      "Note: you may need to restart the kernel to use updated packages.\n"
     ]
    }
   ],
   "source": [
    "#pip install kaggle --upgrade"
   ]
  },
  {
   "cell_type": "code",
   "execution_count": 4,
   "id": "0a64c1c4",
   "metadata": {
    "scrolled": true
   },
   "outputs": [
    {
     "name": "stdout",
     "output_type": "stream",
     "text": [
      "mkdir: /Users/chuwen/.kaggle: File exists\r\n"
     ]
    }
   ],
   "source": [
    "# !mkdir ~/.kaggle\n",
    "# !cp /Users/chuwen/Downloads/kaggle.json /Users/chuwen/.kaggle/"
   ]
  },
  {
   "cell_type": "code",
   "execution_count": 5,
   "id": "b3b5b3a4",
   "metadata": {},
   "outputs": [
    {
     "name": "stdout",
     "output_type": "stream",
     "text": [
      "kaggle.json\r\n"
     ]
    }
   ],
   "source": [
    "# !cd /Users/chuwen/.kaggle/ && ls"
   ]
  },
  {
   "cell_type": "code",
   "execution_count": 6,
   "id": "a699b8ad",
   "metadata": {},
   "outputs": [
    {
     "name": "stdout",
     "output_type": "stream",
     "text": [
      "Warning: Your Kaggle API key is readable by other users on this system! To fix this, you can run 'chmod 600 /Users/chuwen/.kaggle/kaggle.json'\n",
      "Downloading home-data-for-ml-course.zip to /Users/chuwen/Desktop/kaggle\n",
      "100%|████████████████████████████████████████| 386k/386k [00:00<00:00, 1.00MB/s]\n",
      "100%|█████████████████████████████████████████| 386k/386k [00:00<00:00, 996kB/s]\n"
     ]
    }
   ],
   "source": [
    "# !kaggle competitions download -c home-data-for-ml-course"
   ]
  },
  {
   "cell_type": "code",
   "execution_count": 1,
   "id": "3ddd7d91",
   "metadata": {},
   "outputs": [
    {
     "name": "stdout",
     "output_type": "stream",
     "text": [
      "Archive:  home-data-for-ml-course.zip\r\n",
      "  inflating: data/data_description.txt  \r\n",
      "  inflating: data/sample_submission.csv  \r\n",
      "  inflating: data/sample_submission.csv.gz  \r\n",
      "  inflating: data/test.csv           \r\n",
      "  inflating: data/test.csv.gz        \r\n",
      "  inflating: data/train.csv          \r\n",
      "  inflating: data/train.csv.gz       \r\n"
     ]
    }
   ],
   "source": [
    "#!unzip home-data-for-ml-course -d data/"
   ]
  },
  {
   "cell_type": "code",
   "execution_count": 1,
   "id": "624c0fd8",
   "metadata": {},
   "outputs": [
    {
     "name": "stdout",
     "output_type": "stream",
     "text": [
      "Validation MAE for Random Forest Model: 20,684\n"
     ]
    }
   ],
   "source": [
    "# Import helpful libraries\n",
    "import pandas as pd\n",
    "from sklearn.ensemble import RandomForestRegressor\n",
    "from sklearn.metrics import mean_absolute_error\n",
    "from sklearn.model_selection import train_test_split\n",
    "\n",
    "# Load the data, and separate the target\n",
    "iowa_file_path = '/Users/chuwen/Desktop/kaggle/House_pricing/data/train.csv'\n",
    "home_data = pd.read_csv(iowa_file_path)\n",
    "y = home_data.SalePrice\n",
    "\n",
    "# Create X (After completing the exercise, you can return to modify this line!)\n",
    "features = ['LotArea', 'YearBuilt', '1stFlrSF', '2ndFlrSF', 'FullBath', 'BedroomAbvGr', 'TotRmsAbvGrd','MSSubClass','YearRemodAdd','Fireplaces','PoolArea']\n",
    "\n",
    "\n",
    "# Select columns corresponding to features, and preview the data\n",
    "X = home_data[features]\n",
    "X.head()\n",
    "\n",
    "# Split into validation and training data\n",
    "train_X, val_X, train_y, val_y = train_test_split(X, y, random_state=1)\n",
    "\n",
    "# Define a random forest model\n",
    "rf_model = RandomForestRegressor(random_state=1)\n",
    "rf_model.fit(train_X, train_y)\n",
    "rf_val_predictions = rf_model.predict(val_X)\n",
    "rf_val_mae = mean_absolute_error(rf_val_predictions, val_y)\n",
    "\n",
    "print(\"Validation MAE for Random Forest Model: {:,.0f}\".format(rf_val_mae))"
   ]
  },
  {
   "cell_type": "code",
   "execution_count": 2,
   "id": "60a2c579",
   "metadata": {},
   "outputs": [],
   "source": [
    "# To improve accuracy, create a new Random Forest model which you will train on all training data\n",
    "rf_model_on_full_data = RandomForestRegressor(random_state=1)\n",
    "rf_model_on_full_data.fit(X, y)\n",
    "# path to file you will use for predictions\n",
    "test_data_path = '/Users/chuwen/Desktop/kaggle/House_pricing/data/test.csv'\n",
    "\n",
    "# read test data file using pandas\n",
    "test_data = pd.read_csv(test_data_path)\n",
    "\n",
    "# create test_X which comes from test_data but includes only the columns you used for prediction.\n",
    "# The list of columns is stored in a variable called features\n",
    "test_X = test_data[features]\n",
    "\n",
    "# make predictions which we will submit. \n",
    "test_preds = rf_model_on_full_data.predict(test_X)\n"
   ]
  },
  {
   "cell_type": "code",
   "execution_count": 3,
   "id": "c458013c",
   "metadata": {},
   "outputs": [],
   "source": [
    "# Run the code to save predictions in the format used for competition scoring\n",
    "test_preds = rf_model_on_full_data.predict(test_X)\n",
    "output = pd.DataFrame({'Id': test_data.Id,\n",
    "                       'SalePrice': test_preds})\n",
    "output.to_csv('submission.csv', index=False)"
   ]
  },
  {
   "cell_type": "code",
   "execution_count": 5,
   "id": "46afdc0a",
   "metadata": {},
   "outputs": [
    {
     "name": "stdout",
     "output_type": "stream",
     "text": [
      "Warning: Your Kaggle API key is readable by other users on this system! To fix this, you can run 'chmod 600 /Users/chuwen/.kaggle/kaggle.json'\n",
      "100%|██████████████████████████████████████| 20.8k/20.8k [00:00<00:00, 25.6kB/s]\n",
      "Successfully submitted to Housing Prices Competition for Kaggle Learn Users"
     ]
    }
   ],
   "source": [
    "!kaggle competitions submit -c home-data-for-ml-course -f submission.csv -m \"Message\""
   ]
  },
  {
   "cell_type": "code",
   "execution_count": null,
   "id": "5c7e080e",
   "metadata": {},
   "outputs": [],
   "source": []
  }
 ],
 "metadata": {
  "kernelspec": {
   "display_name": "Python [conda env:kaggle]",
   "language": "python",
   "name": "conda-env-kaggle-py"
  },
  "language_info": {
   "codemirror_mode": {
    "name": "ipython",
    "version": 3
   },
   "file_extension": ".py",
   "mimetype": "text/x-python",
   "name": "python",
   "nbconvert_exporter": "python",
   "pygments_lexer": "ipython3",
   "version": "3.8.11"
  }
 },
 "nbformat": 4,
 "nbformat_minor": 5
}
