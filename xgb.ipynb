{
 "cells": [
  {
   "cell_type": "code",
   "execution_count": 1,
   "id": "58df37cb",
   "metadata": {},
   "outputs": [],
   "source": [
    "import pandas as pd\n",
    "from sklearn.model_selection import train_test_split\n",
    "from sklearn.compose import ColumnTransformer\n",
    "from sklearn.pipeline import Pipeline\n",
    "from sklearn.impute import SimpleImputer\n",
    "from sklearn.preprocessing import OneHotEncoder\n",
    "from sklearn.metrics import mean_absolute_error\n",
    "from sklearn.pipeline import Pipeline\n",
    "from xgboost import XGBRegressor\n",
    "\n",
    "#load data\n",
    "X_full = pd.read_csv('/Users/chuwen/Desktop/kaggle/House_pricing/data/train.csv', index_col = 'Id')\n",
    "X_test_full = pd.read_csv('/Users/chuwen/Desktop/kaggle/House_pricing/data/test.csv', index_col = 'Id')\n",
    "\n",
    "X_full.dropna(axis=0, subset=['SalePrice'], inplace=True)\n",
    "y = X_full.SalePrice\n",
    "X_full.drop(['SalePrice'], axis=1, inplace=True)\n",
    "\n",
    "# Break off validation set from training data\n",
    "X_train_full, X_valid_full, y_train, y_valid = train_test_split(X_full, y, \n",
    "                                                                train_size=0.8, test_size=0.2,\n",
    "                                                                random_state=0)\n",
    "\n",
    "# Select categorical columns with relatively low cardinality (convenient but arbitrary)\n",
    "categorical_cols = [cname for cname in X_train_full.columns if\n",
    "                    X_train_full[cname].nunique() < 10 and \n",
    "                    X_train_full[cname].dtype == \"object\"]\n",
    "\n",
    "# Select numerical columns\n",
    "numerical_cols = [cname for cname in X_train_full.columns if \n",
    "                X_train_full[cname].dtype in ['int64', 'float64']]\n",
    "\n",
    "# Keep selected columns only\n",
    "my_cols = categorical_cols + numerical_cols\n",
    "X_train = X_train_full[my_cols].copy()\n",
    "X_valid = X_valid_full[my_cols].copy()\n",
    "X_test = X_test_full[my_cols].copy()\n"
   ]
  },
  {
   "cell_type": "code",
   "execution_count": 5,
   "id": "385f6c8e",
   "metadata": {
    "scrolled": true
   },
   "outputs": [
    {
     "name": "stdout",
     "output_type": "stream",
     "text": [
      "Mean Absolute Error: 16769.128478167808\n"
     ]
    }
   ],
   "source": [
    "X_train1 = pd.get_dummies(X_train)\n",
    "X_valid1 = pd.get_dummies(X_valid)\n",
    "\n",
    "X_train1, X_valid1 = X_train1.align(X_valid1, join='left', axis=1)\n",
    "X_train1, X_test1 = X_train1.align(X_test, join='left', axis=1)\n",
    "\n",
    "\n",
    "\n",
    "\n",
    "my_model_2 = XGBRegressor(n_estimators = 400, learning_rate = 0.05, n_jobs=4) # Your code here\n",
    "\n",
    "# Fit the model\n",
    "my_model_2.fit(X_train1, y_train)\n",
    "\n",
    "# Get predictions\n",
    "predictions_2 = my_model_2.predict(X_valid1) # Your code here\n",
    "\n",
    "# Calculate MAE\n",
    "mae_2 = mean_absolute_error(predictions_2, y_valid) # Your code here\n",
    "\n",
    "# Uncomment to print MAE\n",
    "print(\"Mean Absolute Error:\" , mae_2)"
   ]
  },
  {
   "cell_type": "code",
   "execution_count": 6,
   "id": "cad3e3c0",
   "metadata": {},
   "outputs": [],
   "source": [
    "# make prediction\n",
    "X_transformed_test = pd.get_dummies(X_test)\n",
    "X_transformed_full = pd.get_dummies(X_full[my_cols])\n",
    "X_transformed_full, X_transformed_test = X_transformed_full.align(X_transformed_test, join='left', axis=1)\n",
    "\n",
    "\n",
    "my_model_2.fit(X_transformed_full, y)\n",
    "predictions_3 = my_model_2.predict(X_transformed_test)\n",
    "output = pd.DataFrame({'Id': X_test.index,\n",
    "                       'SalePrice': predictions_3})\n",
    "output.to_csv('submission_XGB.csv', index=False)\n",
    "#!kaggle competitions submit -c home-data-for-ml-course -f submission_pipline.csv -m \"Message\""
   ]
  },
  {
   "cell_type": "code",
   "execution_count": 7,
   "id": "edfd2a39",
   "metadata": {},
   "outputs": [
    {
     "name": "stdout",
     "output_type": "stream",
     "text": [
      "Warning: Your Kaggle API key is readable by other users on this system! To fix this, you can run 'chmod 600 /Users/chuwen/.kaggle/kaggle.json'\n",
      "100%|██████████████████████████████████████| 21.2k/21.2k [00:00<00:00, 48.8kB/s]\n",
      "Successfully submitted to Housing Prices Competition for Kaggle Learn Users"
     ]
    }
   ],
   "source": [
    "!kaggle competitions submit -c home-data-for-ml-course -f submission_XGB.csv -m \"Message\""
   ]
  },
  {
   "cell_type": "markdown",
   "id": "3b5357a9",
   "metadata": {},
   "source": [
    "# Make a simple pipeline"
   ]
  },
  {
   "cell_type": "code",
   "execution_count": null,
   "id": "f5999ea1",
   "metadata": {},
   "outputs": [],
   "source": [
    "numerical_transformer = SimpleImputer(strategy='constant')\n",
    "\n",
    "categorical_transformer = Pipeline(steps=[\n",
    "    ('imputer', SimpleImputer(strategy='most_frequent')),\n",
    "    ('onehot', OneHotEncoder(handle_unknown='ignore'))\n",
    "])\n",
    "\n",
    "preprocessor = ColumnTransformer(\n",
    "    transformers=[\n",
    "        ('num', numerical_transformer, numerical_cols),\n",
    "        ('cat', categorical_transformer, categorical_cols)\n",
    "    ])\n",
    "\n",
    "model = XGBRegressor()\n",
    "\n",
    "pipeline = Pipeline(steps=[('preprocessor', preprocessor),\n",
    "                              ('model', model)])\n",
    "\n",
    "pipeline.fit(X_train, y_train)"
   ]
  },
  {
   "cell_type": "code",
   "execution_count": null,
   "id": "245e6af1",
   "metadata": {},
   "outputs": [],
   "source": [
    "predictions = pipeline.predict(X_valid)\n",
    "mae_1 = mean_absolute_error(predictions, y_valid)\n",
    "print('Mean absolute error:', mae_1)"
   ]
  },
  {
   "cell_type": "markdown",
   "id": "66e8eb1e",
   "metadata": {},
   "source": [
    "# Tune the model"
   ]
  },
  {
   "cell_type": "code",
   "execution_count": null,
   "id": "fe36c80a",
   "metadata": {},
   "outputs": [],
   "source": [
    "model1 = XGBRegressor(n_estimator=400, learning_rate=0.05, n_jobs=4)\n",
    "numerical_transformer = SimpleImputer(strategy='mean')\n",
    "\n",
    "categorical_transformer = Pipeline(steps=[\n",
    "    ('imputer', SimpleImputer(strategy='constant')),\n",
    "    ('onehot', OneHotEncoder(handle_unknown='ignore'))\n",
    "])\n",
    "\n",
    "preprocessor = ColumnTransformer(\n",
    "    transformers=[\n",
    "        ('num', numerical_transformer, numerical_cols),\n",
    "        ('cat', categorical_transformer, categorical_cols)\n",
    "    ])\n",
    "\n",
    "\n",
    "pipeline1 = Pipeline(steps=[('preprocessor', preprocessor),\n",
    "                           ('model', model1)])\n",
    "\n",
    "# X_valid_transformed = preprocessor.transform(X_valid)\n",
    "# pipeline1.fit(X_train, y_train,\n",
    "#              model__early_stopping_rounds=5,\n",
    "#              model__eval_set=[(X_valid_transformed, y_valid)],\n",
    "#              verbose=False)\n",
    "pipeline1.fit(X_train, y_train)"
   ]
  },
  {
   "cell_type": "code",
   "execution_count": null,
   "id": "fc6dbf2b",
   "metadata": {},
   "outputs": [],
   "source": [
    "predictions2 = pipeline1.predict(X_valid)\n",
    "mae_2 = mean_absolute_error(predictions2, y_valid)\n",
    "print('Mean absolute error:', mae_2)"
   ]
  },
  {
   "cell_type": "code",
   "execution_count": null,
   "id": "a6999638",
   "metadata": {},
   "outputs": [],
   "source": []
  }
 ],
 "metadata": {
  "kernelspec": {
   "display_name": "Python [conda env:kaggle]",
   "language": "python",
   "name": "conda-env-kaggle-py"
  },
  "language_info": {
   "codemirror_mode": {
    "name": "ipython",
    "version": 3
   },
   "file_extension": ".py",
   "mimetype": "text/x-python",
   "name": "python",
   "nbconvert_exporter": "python",
   "pygments_lexer": "ipython3",
   "version": "3.8.11"
  }
 },
 "nbformat": 4,
 "nbformat_minor": 5
}
